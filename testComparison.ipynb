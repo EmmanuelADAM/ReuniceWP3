{
 "cells": [
  {
   "cell_type": "markdown",
   "metadata": {},
   "source": [
    "# Comparison of search articles \n",
    "----\n",
    "\n",
    "This page describe the model recommended to compare articles.\n",
    "\n",
    "In this page, 8000 articles from Unict and 2800 from UPHF are compared.\n",
    "\n",
    "---"
   ]
  },
  {
   "cell_type": "markdown",
   "metadata": {},
   "source": [
    "## The model \n",
    "Among the different way to compare text, the best way, to compare titles, or abstracts, is to use the cosine similarity. \n",
    "A lot of models are possible, trained on different datasets.\n",
    "\n",
    "The model chosen is **all-MiniLM-L6-v2**. It presents the best (fast and pertinent) results."
   ]
  },
  {
   "cell_type": "code",
   "execution_count": 1,
   "metadata": {},
   "outputs": [
    {
     "name": "stderr",
     "output_type": "stream",
     "text": [
      "c:\\Program Files\\Python312\\Lib\\site-packages\\tqdm\\auto.py:21: TqdmWarning: IProgress not found. Please update jupyter and ipywidgets. See https://ipywidgets.readthedocs.io/en/stable/user_install.html\n",
      "  from .autonotebook import tqdm as notebook_tqdm\n"
     ]
    }
   ],
   "source": [
    "#load the model\n",
    "from sentence_transformers import SentenceTransformer\n",
    "from sklearn.metrics.pairwise import cosine_similarity\n",
    "model = SentenceTransformer('sentence-transformers/all-MiniLM-L6-v2')"
   ]
  },
  {
   "cell_type": "markdown",
   "metadata": {},
   "source": [
    "We assume that the datasets follow the same template (see [introduction](introduction.ipynb))"
   ]
  },
  {
   "cell_type": "code",
   "execution_count": 2,
   "metadata": {},
   "outputs": [],
   "source": [
    "#read the datasets\n",
    "import pandas as pd\n",
    "\n",
    "doc = pd.read_csv(\"outputRepositori.csv\")\n",
    "sentences_unict = doc['title'][:2]\n",
    "\n",
    "doc = pd.read_csv(\"outputHAL_IA.csv\")\n",
    "sentences_uphf = doc['title'][:2]\n"
   ]
  },
  {
   "cell_type": "code",
   "execution_count": 3,
   "metadata": {},
   "outputs": [
    {
     "data": {
      "text/plain": [
       "pandas.core.series.Series"
      ]
     },
     "execution_count": 3,
     "metadata": {},
     "output_type": "execute_result"
    }
   ],
   "source": [
    "type(sentences_unict)"
   ]
  },
  {
   "cell_type": "code",
   "execution_count": 4,
   "metadata": {},
   "outputs": [],
   "source": [
    "sentences = pd.concat([sentences_unict, sentences_uphf], ignore_index=True)"
   ]
  },
  {
   "cell_type": "code",
   "execution_count": 5,
   "metadata": {},
   "outputs": [
    {
     "data": {
      "text/plain": [
       "0    Design and verification of integrated circuitr...\n",
       "1    Structural safety assessment criteria for dism...\n",
       "2    (Simulated) listener gaze in real-time spoken ...\n",
       "3    [Contribution] Artificial intelligence, edge c...\n",
       "Name: title, dtype: object"
      ]
     },
     "execution_count": 5,
     "metadata": {},
     "output_type": "execute_result"
    }
   ],
   "source": [
    "sentences"
   ]
  },
  {
   "cell_type": "code",
   "execution_count": 9,
   "metadata": {},
   "outputs": [],
   "source": [
    "embeddings = model.encode(sentences)"
   ]
  },
  {
   "cell_type": "code",
   "execution_count": 10,
   "metadata": {},
   "outputs": [],
   "source": [
    "similarities = cosine_similarity(embeddings)"
   ]
  },
  {
   "cell_type": "code",
   "execution_count": null,
   "metadata": {},
   "outputs": [],
   "source": [
    "top_similarities = []\n",
    "for i in range(len(sentences)):\n",
    "    similarities_i = similarities[i]\n",
    "    #get the indices of the 4 greater elements of similarities_i\n",
    "    top_i =sorted(range(len(similarities_i)), key=lambda i: similarities_i[i], reverse=True)[:4]\n",
    "    top_similarities.append(top_i)\n"
   ]
  }
 ],
 "metadata": {
  "kernelspec": {
   "display_name": "Python 3",
   "language": "python",
   "name": "python3"
  },
  "language_info": {
   "codemirror_mode": {
    "name": "ipython",
    "version": 3
   },
   "file_extension": ".py",
   "mimetype": "text/x-python",
   "name": "python",
   "nbconvert_exporter": "python",
   "pygments_lexer": "ipython3",
   "version": "3.12.2"
  }
 },
 "nbformat": 4,
 "nbformat_minor": 2
}
