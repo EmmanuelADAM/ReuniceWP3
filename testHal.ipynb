{
 "cells": [
  {
   "cell_type": "markdown",
   "metadata": {},
   "source": [
    "# Importation of documents from Open Science sources"
   ]
  },
  {
   "cell_type": "markdown",
   "metadata": {},
   "source": [
    "---\n",
    "## <a name=\"HAL\">HAL</a> (France, UPHF)\n",
    "---\n",
    "\n",
    "This document shows the data provided by HAL repository and  how to get data with a specific request.\n",
    "\n",
    "---\n",
    "\n",
    " - Need to be register : No\n",
    " - API : Yes\n",
    " - Cost : Free\n",
    " - Documentation : Yes (in french only)\n",
    " - Access : simple GET request\n",
    " - Ref biblio : bibtex, endnote, COINS\n",
    " - answer format : json (default), xml, atom, csv\n",
    "\n",
    "- fields : a lot !!\n",
    "  - title, abstract, authors, origin (conference, journal, project, ...), date"
   ]
  },
  {
   "cell_type": "code",
   "execution_count": 1,
   "metadata": {},
   "outputs": [],
   "source": [
    "#import for the waiting\n",
    "from tqdm import tqdm\n",
    "#import for web requests\n",
    "import requests"
   ]
  },
  {
   "cell_type": "markdown",
   "metadata": {},
   "source": [
    "---\n",
    "### Define the request\n",
    "See [\"type de champs\"](https://api.archives-ouvertes.fr/docs/search/?schema=fields#fields) for the detail about the parameters."
   ]
  },
  {
   "cell_type": "code",
   "execution_count": 16,
   "metadata": {},
   "outputs": [],
   "source": [
    "#  HAL API URL to search documents (here focused on UPHF docs)\n",
    "base_url = 'https://api.archives-ouvertes.fr/search/uphf/'\n",
    "#  HAL API URL to search documents (here focused on ANR projects)\n",
    "#base_url = 'https://api.archives-ouvertes.fr/search/anr/'"
   ]
  },
  {
   "cell_type": "code",
   "execution_count": 41,
   "metadata": {},
   "outputs": [],
   "source": [
    "# search parameters\n",
    "# query = agent and keyword linked to IA\n",
    "# fields to get = title, absract, authors, conference, doi, ....\n",
    "# format = JSON (can be XML, Bibtex, ..)\n",
    "# nb of document to get = 5 for the example\n",
    "# search in keyword (possibbility to search in abstract, title, .....)\n",
    "query='(agent~  OR Bayesian~ OR learning~ OR constraint~ OR holonic~ OR artificial intelligence OR self-org~ OR intelligence~ OR self-org~ OR self-adapt)'\n",
    "\n",
    "# Fields to get back (title, abstract, ...) (see API doc)\n",
    "details = 'title_s,authFullName_s,keyword_s,conferenceTitle_s,doiId_s,journalTitle_s,proceedings_s,bookTitle_s,abstract_s,submittedDateY_i,anrProjectAcronym_s,collIsParentOfColl_fs'\n",
    "\n",
    "params = {\n",
    "    'q': \"*\", #question\n",
    "    'fl': details,  \n",
    "    'start':0,\n",
    "    'sort': 'submittedDateY_i desc', # sort by year decreasing (asc for ascending)    'wt': 'json',  # output format (JSON here, but XML, Bibtex, .... are possible)\n",
    "    'rows': 10000,  # nb of documents to get\n",
    "}"
   ]
  },
  {
   "cell_type": "markdown",
   "metadata": {},
   "source": [
    "----\n",
    "### Launch the request\n",
    "A simple GET request interrogate the HAL repository to retreive the asked document in the format you have chosen\n"
   ]
  },
  {
   "cell_type": "code",
   "execution_count": 23,
   "metadata": {},
   "outputs": [],
   "source": [
    "# GET request\n",
    "response = requests.get(base_url, params=params)\n",
    "#response = requests.get(base_url)\n"
   ]
  },
  {
   "cell_type": "code",
   "execution_count": 18,
   "metadata": {},
   "outputs": [
    {
     "data": {
      "text/plain": [
       "<Response [200]>"
      ]
     },
     "execution_count": 18,
     "metadata": {},
     "output_type": "execute_result"
    }
   ],
   "source": [
    "response"
   ]
  },
  {
   "cell_type": "code",
   "execution_count": 61,
   "metadata": {},
   "outputs": [
    {
     "name": "stdout",
     "output_type": "stream",
     "text": [
      "response in JSON format : ok\n"
     ]
    }
   ],
   "source": [
    "# WARNING you should check if the request succeed (200 = Ok, 404 = Error, 102 = in process)\n",
    "if response.status_code == 200: \n",
    "    print(\"response in JSON format : ok\")\n"
   ]
  },
  {
   "cell_type": "markdown",
   "metadata": {},
   "source": [
    "---\n",
    "### Decode the result\n",
    "You have to choose the decoder in relation with the format : \n"
   ]
  },
  {
   "cell_type": "code",
   "execution_count": 62,
   "metadata": {},
   "outputs": [],
   "source": [
    "data = response.json()\n",
    "# data is a dictionary containing the nb of articles found, and a dictionary with the articles"
   ]
  },
  {
   "cell_type": "code",
   "execution_count": 63,
   "metadata": {},
   "outputs": [],
   "source": [
    "# from the response of the data, get the docs\n",
    "articles = data[\"response\"][\"docs\"]"
   ]
  },
  {
   "cell_type": "code",
   "execution_count": 52,
   "metadata": {},
   "outputs": [
    {
     "data": {
      "text/plain": [
       "2000"
      ]
     },
     "execution_count": 52,
     "metadata": {},
     "output_type": "execute_result"
    }
   ],
   "source": [
    "len(articles)"
   ]
  },
  {
   "cell_type": "code",
   "execution_count": 66,
   "metadata": {},
   "outputs": [
    {
     "data": {
      "text/plain": [
       "{'proceedings_s': '0',\n",
       " 'title_s': ['Literatura, literatura infantil e valores: da inculcação ao questionamento',\n",
       "  'Littérature, littérature de jeunesse et valeurs : de l’inculcation à l’interrogation'],\n",
       " 'keyword_s': ['Littérature de jeunesse Valeurs',\n",
       "  'Inculcation ou interrogation Ethique et esthétique'],\n",
       " 'abstract_s': ['A literatura sempre foi e continua sendo atravessada pela questão dos valores. Apesar de seu relativo sucesso no século XX, os formalistas e os estruturalistas não conseguiram eliminar essa questão dos valores. Pelo contrário, os trabalhos recentes lhe consagram um lugar cada vez maior. Este lugar foi profundamente renovado, especialmente na literatura para a juventude, pois se trata sempre mais decisivamente de passar de uma postura de inculcação de valores a uma didática centrada sobre sua interrogação para combinar formação literária e formação pessoal. Como descrever e explicar essas evoluções? Por que valorizar os corpus e as abordagens que trabalham para combinar ética e estética, para promover enfim uma postura axiológica?',\n",
       "  'La littérature a toujours été et continue d’être traversée par la question des valeurs. Malgré leur succès relatif au XXe siècle, les formalistes et les structuralistes n’ont pas été en mesure d’éliminer cette question des valeurs. Au contraire, des travaux récents lui ont donné une place de plus en plus grande. Cette place a été profondément renouvelée, notamment dans la littérature pour la jeunesse, puisqu’il s’agit de plus en plus résolument de passer d’une posture d’inculcation des valeurs à une posture didactique centrée sur leur sur leur interrogation pour combiner la formation littéraire et la formation personnelle. Comment décrire et expliquer ces évolutions ? Pourquoi valoriser le corpus et les approches qui s’efforcent d’allier éthique et esthétique, de promouvoir une posture axiologique ?'],\n",
       " 'conferenceTitle_s': '\"Education, littérature et éthique\"',\n",
       " 'authFullName_s': ['Max Butlen'],\n",
       " 'submittedDateY_i': 2024,\n",
       " 'collIsParentOfColl_fs': ['UNIV-CERGY_FacetSep_Université de Cergy Pontoise_JoinSep_EMA_FacetSep_Ecole, Mutations, Apprentissages',\n",
       "  'UNIV-CERGY_FacetSep_Université de Cergy Pontoise_JoinSep_CY-EDUCATION_FacetSep_CY : Education ']}"
      ]
     },
     "execution_count": 66,
     "metadata": {},
     "output_type": "execute_result"
    }
   ],
   "source": [
    "articles[1]"
   ]
  },
  {
   "cell_type": "code",
   "execution_count": 54,
   "metadata": {},
   "outputs": [],
   "source": [
    "#we keep only the non empty details for each articles\n",
    "true_details = []\n",
    "for idx, article in enumerate(articles, start=1):\n",
    "    dict_details = {}\n",
    "    tab_details = details.split(',')\n",
    "    for d in tab_details:\n",
    "        value = article.get(d, '')\n",
    "        if value != '':\n",
    "            dict_details[d] = value\n",
    "#            print(f\"{d} : {dict_details[d]}\")\n",
    "    true_details.append(dict_details)\n",
    "#    print(\"=\"*50 + \"\\n\")"
   ]
  },
  {
   "cell_type": "code",
   "execution_count": 55,
   "metadata": {},
   "outputs": [
    {
     "data": {
      "text/plain": [
       "2000"
      ]
     },
     "execution_count": 55,
     "metadata": {},
     "output_type": "execute_result"
    }
   ],
   "source": [
    "len(true_details)"
   ]
  },
  {
   "cell_type": "code",
   "execution_count": 58,
   "metadata": {},
   "outputs": [
    {
     "data": {
      "text/plain": [
       "{'title_s': ['The Implementation of a Quality Management Standard in a Food SME: A Network Learning Perspective'],\n",
       " 'authFullName_s': ['Zam-Zam Abdirahman', 'Loïc Sauvée'],\n",
       " 'keyword_s': ['Food SME innovation learning network quality management standard',\n",
       "  'Food SME',\n",
       "  'Innovation',\n",
       "  'Learning',\n",
       "  'Network',\n",
       "  'Quality management standard',\n",
       "  'Food Consumption/Nutrition/Food Safety',\n",
       "  'Food Security and Poverty',\n",
       "  'Industrial Organization',\n",
       "  'Research and Development/Tech Change/Emerging Technologies',\n",
       "  'Food SME',\n",
       "  'Innovation',\n",
       "  'Learning',\n",
       "  'Network',\n",
       "  'Quality management standard'],\n",
       " 'doiId_s': '10.22004/ag.econ.144857',\n",
       " 'journalTitle_s': 'International Journal on Food System Dynamics',\n",
       " 'abstract_s': ['In the modern agrifood economies, the development of quality management standards is crucial, and food small and medium enterprises (SMEs) usually face difficulties in implementing them. In this context, the aim of the article is two-fold. Firstly it is to craft an original analytical framework in line with the literature on innovation networks and related learning effects specifically devoted to the study of quality management standards implementation. Secondly the objective of the article is to apply this framework to a specific food SME case in order to test it and to identify the key network learning effects that occur during the implementation of a quality management standard, namely the ISO 22000 standard for food safety. From this research, the practical output will be to propose tools to enhance food SMEs’ innovative capacity, through an improvement of their insertion in active formal and/or informal innovation networks. These specific tools will be especially targeted towards the strengthening of learning processes between the SME and the partners involved in the implementation.'],\n",
       " 'submittedDateY_i': 2024}"
      ]
     },
     "execution_count": 58,
     "metadata": {},
     "output_type": "execute_result"
    }
   ],
   "source": [
    "true_details[0]"
   ]
  },
  {
   "cell_type": "markdown",
   "metadata": {},
   "source": [
    "---\n",
    "## Save\n",
    "We complete the data of each paper from their DOI (field, references).<br>\n",
    "And we save the result in a csv file with the headers `` 'title', 'keywords', 'abstract', 'field', 'authors', 'date', 'doi', 'references'``.\n",
    "The objective is to store the data of the different repositories in a same format.\n",
    "\n"
   ]
  },
  {
   "cell_type": "code",
   "execution_count": 11,
   "metadata": {},
   "outputs": [],
   "source": [
    "#we choose these data from DOI (we could have more (pdf if provided, ....))\n",
    "doi_keys = [\"title\",\"author\",\"subject\", \"reference\"]\n",
    "\n",
    "def get_info_from_doi(doi):\n",
    "    \"\"\"return an extract of the DOI data\"\"\"\n",
    "    doi_info = {}\n",
    "    if doi[-1] == '.': doi = doi[:-1]\n",
    "    url = f\"https://api.crossref.org/works/{doi}\"\n",
    "    response = requests.get(url)\n",
    "#    print(response)\n",
    "    # check if success\n",
    "    if response.status_code == 200:\n",
    "        # extract  JSON data \n",
    "        data = response.json()\n",
    "        data = data[\"message\"]\n",
    "        for key in doi_keys:\n",
    "            if key in data:\n",
    "                doi_info[key] = data[key]\n",
    "    return doi_info\n"
   ]
  },
  {
   "cell_type": "code",
   "execution_count": 12,
   "metadata": {},
   "outputs": [
    {
     "name": "stderr",
     "output_type": "stream",
     "text": [
      "100%|██████████| 2843/2843 [15:45<00:00,  3.01it/s]\n"
     ]
    }
   ],
   "source": [
    "import pandas as pd\n",
    "\n",
    "#define a row with the headers title, keyword, abstract, field, authors, date, doi, references\n",
    "csv_content = [['title', 'keyword', 'abstract', 'field', 'authors', 'date', 'doi', 'references']]\n",
    "#start a csv file\n",
    "for article in tqdm(true_details):\n",
    "    title = \"\"\n",
    "    keyword = \"\"\n",
    "    abstract = \"\"\n",
    "    field  = \"\"\n",
    "    authors = \"\"\n",
    "    date = \"\"\n",
    "    doi = \"\"\n",
    "    doi = article.get('doiId_s', '')\n",
    "    references = \"\"    \n",
    "    if(doi!=\"\"):\n",
    "        doi_values = get_info_from_doi(doi)\n",
    "        #get the field \"subject\" if exists  \n",
    "        if 'subject' in doi_values: field = doi_values['subject']\n",
    "        if 'reference' in doi_values: \n",
    "            refs = doi_values['reference']\n",
    "            for ref in refs:\n",
    "                if 'DOI' in ref:\n",
    "                    references = references + ref['DOI'] + \", \"\n",
    "    if 'title_s' in article: title = article['title_s']\n",
    "    if 'keyword_s' in article: keyword = article['keyword_s']\n",
    "    if 'abstract' in article: abstract = article['abstract_s']\n",
    "    if 'authFullName_s' in article: authors = article['authFullName_s']\n",
    "    if 'submittedDateY_i' in article: date = article['submittedDateY_i']\n",
    "    row = [\",\".join(title), \",\".join(keyword), \",\".join(abstract), \",\".join(field), \",\".join(authors), date, doi, references]\n",
    "    csv_content.append(row)\n",
    "\n",
    "\n"
   ]
  },
  {
   "cell_type": "code",
   "execution_count": 13,
   "metadata": {},
   "outputs": [],
   "source": [
    "#save it\n",
    "df = pd.DataFrame(csv_content[1:], columns=csv_content[0])\n",
    "\n",
    "df.to_csv('outputHAL.csv', index=False,  encoding=\"utf-8\")"
   ]
  }
 ],
 "metadata": {
  "kernelspec": {
   "display_name": "Python 3",
   "language": "python",
   "name": "python3"
  },
  "language_info": {
   "codemirror_mode": {
    "name": "ipython",
    "version": 3
   },
   "file_extension": ".py",
   "mimetype": "text/x-python",
   "name": "python",
   "nbconvert_exporter": "python",
   "pygments_lexer": "ipython3",
   "version": "3.12.2"
  },
  "orig_nbformat": 4
 },
 "nbformat": 4,
 "nbformat_minor": 2
}
