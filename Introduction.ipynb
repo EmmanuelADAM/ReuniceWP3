{
 "cells": [
  {
   "cell_type": "markdown",
   "metadata": {},
   "source": [
    "# Importation of documents from Open Science sources"
   ]
  },
  {
   "cell_type": "markdown",
   "metadata": {},
   "source": [
    "## Access to documents for Reunice partners\n",
    "\n",
    "Partner | City/Country | Open Digital Repository | Tool | Extraction of data | Accessible<br> via API | Query <br> via API | Query <br> via http\n",
    "------- | ------------ | ----------------------- | ---- | ------------------ | ------------------ | ------------------------- | ------------------\n",
    "UPHF | Valenciennes/France | [uphf.hal.science](https://uphf.hal.science/) | HAL | Yes | Yes | Yes | \n",
    "UNICT | Cantabria/Spain | [repositorio.unican.es](https://repositorio.unican.es/xmlui/) | DSpace | Yes | Yes | No | \n",
    "B-TU | Brandenburg/Germany | [opus4.kobv.de/opus4-btu](https://opus4.kobv.de/opus4-btu/home) | OPUS-4 | Yes | No | No | \n",
    "UC | Catania/Italy | [iris.unict.it](https://www.iris.unict.it/) | IRIS | Yes | No | No | \n",
    "PUT | Poznan/Poland | [sin.put.poznan.pl](https://sin.put.poznan.pl/) | SINUS | Yes (bibtex + details) | Yes | No | Yes\n",
    "UVA | Vaasa/Finland | [osuva.uwasa.fi](https://osuva.uwasa.fi/) | DSpace | **No** | **No** | No | \n",
    "UMons | Mons/Belgium | [orbi.umons.ac.be](https://orbi.umons.ac.be/) | Orbi | only references | No | No | \n",
    "\n",
    "Some developments : \n",
    "- [HAL, UPHF, France](#HAL)\n",
    "- [Repositorio, UNICT, Spain](#Repositorio)\n",
    "- [SINUS, PUT, Poland](#Sinus)"
   ]
  },
  {
   "cell_type": "markdown",
   "metadata": {},
   "source": [
    "---\n",
    "## Heterogeneity\n",
    "As the open science platforms provide datasets in various formats, it is necessary to extract the most relevant information for the search of similarities.\n",
    "\n",
    "First, obviously by authors; theoretically easily by keywords. \n",
    "But keywords are not normalized, and sometimes do not represent always the core of the article. \n",
    "Fields (like )\n",
    "\n",
    "On way to detect similarity between articles is to compare the titles, or the abstracts. \n",
    "For that, NLP models and transformers can be used.\n",
    "\n",
    "Another interesting point is the references: \n",
    "- two articles that share a nb of references could be considered as sharing the same interest\n",
    "- the citation of an article by another one could also be considered as a proximity.\n",
    "To obtain this information, the DOI can be used. \n",
    "From the DOI and the use of the API CrossRef, we obtain these informations, and details about the authors, ...\n",
    "\n",
    "So, if some open sciences repositories, does not give directly the requested information, form the DOI data, it is possible to complete the needed information.\n",
    "\n",
    "So the idea is to build tables for all the articles in the REUNICE repositories, in the 15 last years.\n",
    "Theses table will contain for each article :\n",
    "- the title\n",
    "- the DOI\n",
    "- the abstract\n",
    "- the authors\n",
    "- the keywords\n",
    "- the fields.\n",
    "\n",
    "\n",
    "---\n",
    "## Access to the data\n",
    "Some repository allows an interrogation online, via an API. \n",
    "Others allows only the download of the data in a BibTex, JSON or  CSV format.\n",
    "\n",
    "So, the idea is to get the references of all articles stored in the REUNICE repositories andd then make research of similarity, distance between them.\n",
    "\n",
    "Periodically, the repositories will be updated with new articles.\n",
    "\n",
    "---\n",
    "## First test\n",
    "To start, articles relative to artificial intelligence are listed.\n",
    "\n",
    "A user can then search for similar articles from a title, or a doi.\n",
    "\n",
    "For a given article, if a pdf file or an abstract is provided, the user can interact in natural language (for example, \"what is the topic of the article ?\", ....).\n",
    "\n",
    "---\n",
    "\n",
    "\n"
   ]
  }
 ],
 "metadata": {
  "kernelspec": {
   "display_name": "Python 3",
   "language": "python",
   "name": "python3"
  },
  "language_info": {
   "codemirror_mode": {
    "name": "ipython",
    "version": 3
   },
   "file_extension": ".py",
   "mimetype": "text/x-python",
   "name": "python",
   "nbconvert_exporter": "python",
   "pygments_lexer": "ipython3",
   "version": "3.12.2"
  },
  "orig_nbformat": 4
 },
 "nbformat": 4,
 "nbformat_minor": 2
}
